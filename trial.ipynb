{
 "cells": [
  {
   "cell_type": "code",
   "execution_count": null,
   "metadata": {},
   "outputs": [],
   "source": [
    "import requests\n",
    "import os\n",
    "import re\n",
    "from bs4 import BeautifulSoup\n"
   ]
  },
  {
   "cell_type": "code",
   "execution_count": null,
   "metadata": {},
   "outputs": [],
   "source": [
    "# Constants\n",
    "RSS_FEED_URL = \"https://lexfridman.com/feed/podcast/\"\n",
    "ASSEMBLYAI_API_KEY = \"ASSEMBLYAI_API_KEY\"\n",
    "ASSEMBLYAI_UPLOAD_URL = \"https://api.assemblyai.com/v2/upload\"\n",
    "ASSEMBLYAI_TRANSCRIPT_URL = \"https://api.assemblyai.com/v2/transcript\"\n",
    "CHUNK_SIZE = 5242880"
   ]
  },
  {
   "cell_type": "code",
   "execution_count": null,
   "metadata": {},
   "outputs": [],
   "source": [
    "# Function to read file in chunks\n",
    "def read_file(filename, chunk_size=CHUNK_SIZE):\n",
    "    with open(filename, 'rb') as _file:\n",
    "        while True:\n",
    "            data = _file.read(chunk_size)\n",
    "            if not data:\n",
    "                break\n",
    "            yield data"
   ]
  },
  {
   "cell_type": "code",
   "execution_count": null,
   "metadata": {},
   "outputs": [],
   "source": [
    "# Podcasts RSS Feed Processing\n",
    "page = requests.get(RSS_FEED_URL)\n",
    "soup = BeautifulSoup(page.content, 'html.parser')\n",
    "podcasts_items = soup.find_all('item')"
   ]
  },
  {
   "cell_type": "code",
   "execution_count": null,
   "metadata": {},
   "outputs": [],
   "source": [
    "# Download and Save Podcasts\n",
    "mp3_url = podcasts_items[0].find('enclosure')['url']\n",
    "mp3_file = requests.get(mp3_url)\n",
    "with open(\"podcast.mp3\", \"wb\") as f:\n",
    "    f.write(mp3_file.content)\n"
   ]
  },
  {
   "cell_type": "code",
   "execution_count": null,
   "metadata": {},
   "outputs": [],
   "source": [
    "# Create 'trial' directory\n",
    "os.mkdir('./trial')\n",
    "\n",
    "# Download and Save Limited Podcasts with Modified Title\n",
    "count = 0\n",
    "for podcasts in podcasts_items:\n",
    "    if count == 10:\n",
    "        break\n",
    "    title = podcasts.find('title').text\n",
    "    title = re.sub(r'[\\/\\:\\–]', '_', title)\n",
    "    mp3_url = podcasts.find('enclosure')['url']\n",
    "    mp3_file = requests.get(mp3_url)\n",
    "    with open(f'./trial/{title}.mp3', \"wb\") as f:\n",
    "        f.write(mp3_file.content)\n",
    "    count += 1"
   ]
  },
  {
   "cell_type": "code",
   "execution_count": null,
   "metadata": {},
   "outputs": [],
   "source": [
    "# Transcription Process\n",
    "file_names = os.listdir('./trial')\n",
    "output_ids = []\n",
    "\n",
    "# Upload and Transcribe Podcasts\n",
    "for file in file_names:\n",
    "    file_path = f'trial/{file}'\n",
    "    print(\"Uploading file:\", file)\n",
    "    response = requests.post(ASSEMBLYAI_UPLOAD_URL, headers={'authorization': ASSEMBLYAI_API_KEY}, data=read_file(file_path))\n",
    "    print(\"Upload Status:\", response.status_code)\n",
    "    \n",
    "    # Set audio start and end time as needed\n",
    "    audio_json = {\n",
    "        \"audio_url\": response.json()['upload_url'],\n",
    "        \"audio_start_from\": 300000,\n",
    "        \"audio_end_at\": 600000,\n",
    "    }\n",
    "\n",
    "    print(\"Transcribing...\")\n",
    "    response = requests.post(ASSEMBLYAI_TRANSCRIPT_URL, json=audio_json, headers={'authorization': ASSEMBLYAI_API_KEY})\n",
    "    output_ids.append(response.json()['id'])\n",
    "    print(\"Transcription Status:\", response.status_code)"
   ]
  },
  {
   "cell_type": "code",
   "execution_count": null,
   "metadata": {},
   "outputs": [],
   "source": [
    "# Save Transcripts\n",
    "path = './transcripts'\n",
    "if not os.path.exists(path):\n",
    "    os.mkdir(path)\n",
    "\n",
    "for tid in output_ids:\n",
    "    transcript_url = f'https://api.assemblyai.com/v2/transcript/{tid}'\n",
    "    response = requests.get(transcript_url, headers={'authorization': ASSEMBLYAI_API_KEY})\n",
    "    raw_text = response.json()['text']\n",
    "    with open(f'./transcripts/{tid}.txt', 'w') as f:\n",
    "        f.write(raw_text)\n",
    "    print(\"Transcript saved for:\", tid)"
   ]
  }
 ],
 "metadata": {
  "kernelspec": {
   "display_name": "Python 3",
   "language": "python",
   "name": "python3"
  },
  "language_info": {
   "codemirror_mode": {
    "name": "ipython",
    "version": 3
   },
   "file_extension": ".py",
   "mimetype": "text/x-python",
   "name": "python",
   "nbconvert_exporter": "python",
   "pygments_lexer": "ipython3",
   "version": "3.12.0"
  }
 },
 "nbformat": 4,
 "nbformat_minor": 2
}
